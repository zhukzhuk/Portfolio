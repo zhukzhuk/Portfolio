{
 "cells": [
  {
   "cell_type": "markdown",
   "id": "4076b92d",
   "metadata": {},
   "source": [
    "# Исследование надежности заемщиков"
   ]
  },
  {
   "cell_type": "markdown",
   "id": "0a539c67",
   "metadata": {},
   "source": [
    "Заказчик — кредитный отдел банка. Нужно разобраться, влияет ли семейное положение и количество детей клиента на факт погашения кредита в срок. Входные данные от банка — статистика о платёжеспособности клиентов.\n",
    "Результаты исследования будут учтены при построении модели кредитного скоринга — специальной системы, которая оценивает способность потенциального заёмщика вернуть кредит банку."
   ]
  },
  {
   "cell_type": "markdown",
   "id": "ed37af2e",
   "metadata": {},
   "source": [
    "#### 1.   Откроем таблицу и изучим информацию о данных, импортируем библиотеку pandas, считаем данные из csv-файла в датафрейм и сохраним в переменную `data`"
   ]
  },
  {
   "cell_type": "code",
   "execution_count": 1,
   "id": "d17142e3",
   "metadata": {},
   "outputs": [],
   "source": [
    "import pandas as pd\n",
    "\n",
    "data = pd.read_csv('/datasets/data.csv')\n"
   ]
  },
  {
   "cell_type": "markdown",
   "id": "8aa8219f",
   "metadata": {},
   "source": [
    "#### 2. Выведем на экран первые 10 строчек датафрейма и основную информацию о нем.\n"
   ]
  },
  {
   "cell_type": "code",
   "execution_count": 2,
   "id": "978ebe83",
   "metadata": {},
   "outputs": [],
   "source": [
    "def get_info(data):\n",
    "    data.columns = [x.lower().replace(' ', '_') for x in data.columns] # переименование столбцов по правилам  snake_case\n",
    "    display(data.head())# первые 5 строка датасета\n",
    "    display(data.info()) # общая информация\n",
    "    display(data.describe()) # описание датасета\n",
    "    display(data.value_counts()) # подсчет уникальных значений\n",
    "    display(\"Количество явных дубликатов\", data.duplicated().sum()) # проверка явных дубликатов\n"
   ]
  },
  {
   "cell_type": "code",
   "execution_count": 3,
   "id": "542de089",
   "metadata": {},
   "outputs": [
    {
     "data": {
      "text/html": [
       "<div>\n",
       "<style scoped>\n",
       "    .dataframe tbody tr th:only-of-type {\n",
       "        vertical-align: middle;\n",
       "    }\n",
       "\n",
       "    .dataframe tbody tr th {\n",
       "        vertical-align: top;\n",
       "    }\n",
       "\n",
       "    .dataframe thead th {\n",
       "        text-align: right;\n",
       "    }\n",
       "</style>\n",
       "<table border=\"1\" class=\"dataframe\">\n",
       "  <thead>\n",
       "    <tr style=\"text-align: right;\">\n",
       "      <th></th>\n",
       "      <th>children</th>\n",
       "      <th>days_employed</th>\n",
       "      <th>dob_years</th>\n",
       "      <th>education</th>\n",
       "      <th>education_id</th>\n",
       "      <th>family_status</th>\n",
       "      <th>family_status_id</th>\n",
       "      <th>gender</th>\n",
       "      <th>income_type</th>\n",
       "      <th>debt</th>\n",
       "      <th>total_income</th>\n",
       "      <th>purpose</th>\n",
       "    </tr>\n",
       "  </thead>\n",
       "  <tbody>\n",
       "    <tr>\n",
       "      <th>0</th>\n",
       "      <td>1</td>\n",
       "      <td>-8437.673028</td>\n",
       "      <td>42</td>\n",
       "      <td>высшее</td>\n",
       "      <td>0</td>\n",
       "      <td>женат / замужем</td>\n",
       "      <td>0</td>\n",
       "      <td>F</td>\n",
       "      <td>сотрудник</td>\n",
       "      <td>0</td>\n",
       "      <td>253875.639453</td>\n",
       "      <td>покупка жилья</td>\n",
       "    </tr>\n",
       "    <tr>\n",
       "      <th>1</th>\n",
       "      <td>1</td>\n",
       "      <td>-4024.803754</td>\n",
       "      <td>36</td>\n",
       "      <td>среднее</td>\n",
       "      <td>1</td>\n",
       "      <td>женат / замужем</td>\n",
       "      <td>0</td>\n",
       "      <td>F</td>\n",
       "      <td>сотрудник</td>\n",
       "      <td>0</td>\n",
       "      <td>112080.014102</td>\n",
       "      <td>приобретение автомобиля</td>\n",
       "    </tr>\n",
       "    <tr>\n",
       "      <th>2</th>\n",
       "      <td>0</td>\n",
       "      <td>-5623.422610</td>\n",
       "      <td>33</td>\n",
       "      <td>Среднее</td>\n",
       "      <td>1</td>\n",
       "      <td>женат / замужем</td>\n",
       "      <td>0</td>\n",
       "      <td>M</td>\n",
       "      <td>сотрудник</td>\n",
       "      <td>0</td>\n",
       "      <td>145885.952297</td>\n",
       "      <td>покупка жилья</td>\n",
       "    </tr>\n",
       "    <tr>\n",
       "      <th>3</th>\n",
       "      <td>3</td>\n",
       "      <td>-4124.747207</td>\n",
       "      <td>32</td>\n",
       "      <td>среднее</td>\n",
       "      <td>1</td>\n",
       "      <td>женат / замужем</td>\n",
       "      <td>0</td>\n",
       "      <td>M</td>\n",
       "      <td>сотрудник</td>\n",
       "      <td>0</td>\n",
       "      <td>267628.550329</td>\n",
       "      <td>дополнительное образование</td>\n",
       "    </tr>\n",
       "    <tr>\n",
       "      <th>4</th>\n",
       "      <td>0</td>\n",
       "      <td>340266.072047</td>\n",
       "      <td>53</td>\n",
       "      <td>среднее</td>\n",
       "      <td>1</td>\n",
       "      <td>гражданский брак</td>\n",
       "      <td>1</td>\n",
       "      <td>F</td>\n",
       "      <td>пенсионер</td>\n",
       "      <td>0</td>\n",
       "      <td>158616.077870</td>\n",
       "      <td>сыграть свадьбу</td>\n",
       "    </tr>\n",
       "  </tbody>\n",
       "</table>\n",
       "</div>"
      ],
      "text/plain": [
       "   children  days_employed  dob_years education  education_id  \\\n",
       "0         1   -8437.673028         42    высшее             0   \n",
       "1         1   -4024.803754         36   среднее             1   \n",
       "2         0   -5623.422610         33   Среднее             1   \n",
       "3         3   -4124.747207         32   среднее             1   \n",
       "4         0  340266.072047         53   среднее             1   \n",
       "\n",
       "      family_status  family_status_id gender income_type  debt   total_income  \\\n",
       "0   женат / замужем                 0      F   сотрудник     0  253875.639453   \n",
       "1   женат / замужем                 0      F   сотрудник     0  112080.014102   \n",
       "2   женат / замужем                 0      M   сотрудник     0  145885.952297   \n",
       "3   женат / замужем                 0      M   сотрудник     0  267628.550329   \n",
       "4  гражданский брак                 1      F   пенсионер     0  158616.077870   \n",
       "\n",
       "                      purpose  \n",
       "0               покупка жилья  \n",
       "1     приобретение автомобиля  \n",
       "2               покупка жилья  \n",
       "3  дополнительное образование  \n",
       "4             сыграть свадьбу  "
      ]
     },
     "metadata": {},
     "output_type": "display_data"
    },
    {
     "name": "stdout",
     "output_type": "stream",
     "text": [
      "<class 'pandas.core.frame.DataFrame'>\n",
      "RangeIndex: 21525 entries, 0 to 21524\n",
      "Data columns (total 12 columns):\n",
      " #   Column            Non-Null Count  Dtype  \n",
      "---  ------            --------------  -----  \n",
      " 0   children          21525 non-null  int64  \n",
      " 1   days_employed     19351 non-null  float64\n",
      " 2   dob_years         21525 non-null  int64  \n",
      " 3   education         21525 non-null  object \n",
      " 4   education_id      21525 non-null  int64  \n",
      " 5   family_status     21525 non-null  object \n",
      " 6   family_status_id  21525 non-null  int64  \n",
      " 7   gender            21525 non-null  object \n",
      " 8   income_type       21525 non-null  object \n",
      " 9   debt              21525 non-null  int64  \n",
      " 10  total_income      19351 non-null  float64\n",
      " 11  purpose           21525 non-null  object \n",
      "dtypes: float64(2), int64(5), object(5)\n",
      "memory usage: 2.0+ MB\n"
     ]
    },
    {
     "data": {
      "text/plain": [
       "None"
      ]
     },
     "metadata": {},
     "output_type": "display_data"
    },
    {
     "data": {
      "text/html": [
       "<div>\n",
       "<style scoped>\n",
       "    .dataframe tbody tr th:only-of-type {\n",
       "        vertical-align: middle;\n",
       "    }\n",
       "\n",
       "    .dataframe tbody tr th {\n",
       "        vertical-align: top;\n",
       "    }\n",
       "\n",
       "    .dataframe thead th {\n",
       "        text-align: right;\n",
       "    }\n",
       "</style>\n",
       "<table border=\"1\" class=\"dataframe\">\n",
       "  <thead>\n",
       "    <tr style=\"text-align: right;\">\n",
       "      <th></th>\n",
       "      <th>children</th>\n",
       "      <th>days_employed</th>\n",
       "      <th>dob_years</th>\n",
       "      <th>education_id</th>\n",
       "      <th>family_status_id</th>\n",
       "      <th>debt</th>\n",
       "      <th>total_income</th>\n",
       "    </tr>\n",
       "  </thead>\n",
       "  <tbody>\n",
       "    <tr>\n",
       "      <th>count</th>\n",
       "      <td>21525.000000</td>\n",
       "      <td>19351.000000</td>\n",
       "      <td>21525.000000</td>\n",
       "      <td>21525.000000</td>\n",
       "      <td>21525.000000</td>\n",
       "      <td>21525.000000</td>\n",
       "      <td>1.935100e+04</td>\n",
       "    </tr>\n",
       "    <tr>\n",
       "      <th>mean</th>\n",
       "      <td>0.538908</td>\n",
       "      <td>63046.497661</td>\n",
       "      <td>43.293380</td>\n",
       "      <td>0.817236</td>\n",
       "      <td>0.972544</td>\n",
       "      <td>0.080883</td>\n",
       "      <td>1.674223e+05</td>\n",
       "    </tr>\n",
       "    <tr>\n",
       "      <th>std</th>\n",
       "      <td>1.381587</td>\n",
       "      <td>140827.311974</td>\n",
       "      <td>12.574584</td>\n",
       "      <td>0.548138</td>\n",
       "      <td>1.420324</td>\n",
       "      <td>0.272661</td>\n",
       "      <td>1.029716e+05</td>\n",
       "    </tr>\n",
       "    <tr>\n",
       "      <th>min</th>\n",
       "      <td>-1.000000</td>\n",
       "      <td>-18388.949901</td>\n",
       "      <td>0.000000</td>\n",
       "      <td>0.000000</td>\n",
       "      <td>0.000000</td>\n",
       "      <td>0.000000</td>\n",
       "      <td>2.066726e+04</td>\n",
       "    </tr>\n",
       "    <tr>\n",
       "      <th>25%</th>\n",
       "      <td>0.000000</td>\n",
       "      <td>-2747.423625</td>\n",
       "      <td>33.000000</td>\n",
       "      <td>1.000000</td>\n",
       "      <td>0.000000</td>\n",
       "      <td>0.000000</td>\n",
       "      <td>1.030532e+05</td>\n",
       "    </tr>\n",
       "    <tr>\n",
       "      <th>50%</th>\n",
       "      <td>0.000000</td>\n",
       "      <td>-1203.369529</td>\n",
       "      <td>42.000000</td>\n",
       "      <td>1.000000</td>\n",
       "      <td>0.000000</td>\n",
       "      <td>0.000000</td>\n",
       "      <td>1.450179e+05</td>\n",
       "    </tr>\n",
       "    <tr>\n",
       "      <th>75%</th>\n",
       "      <td>1.000000</td>\n",
       "      <td>-291.095954</td>\n",
       "      <td>53.000000</td>\n",
       "      <td>1.000000</td>\n",
       "      <td>1.000000</td>\n",
       "      <td>0.000000</td>\n",
       "      <td>2.034351e+05</td>\n",
       "    </tr>\n",
       "    <tr>\n",
       "      <th>max</th>\n",
       "      <td>20.000000</td>\n",
       "      <td>401755.400475</td>\n",
       "      <td>75.000000</td>\n",
       "      <td>4.000000</td>\n",
       "      <td>4.000000</td>\n",
       "      <td>1.000000</td>\n",
       "      <td>2.265604e+06</td>\n",
       "    </tr>\n",
       "  </tbody>\n",
       "</table>\n",
       "</div>"
      ],
      "text/plain": [
       "           children  days_employed     dob_years  education_id  \\\n",
       "count  21525.000000   19351.000000  21525.000000  21525.000000   \n",
       "mean       0.538908   63046.497661     43.293380      0.817236   \n",
       "std        1.381587  140827.311974     12.574584      0.548138   \n",
       "min       -1.000000  -18388.949901      0.000000      0.000000   \n",
       "25%        0.000000   -2747.423625     33.000000      1.000000   \n",
       "50%        0.000000   -1203.369529     42.000000      1.000000   \n",
       "75%        1.000000    -291.095954     53.000000      1.000000   \n",
       "max       20.000000  401755.400475     75.000000      4.000000   \n",
       "\n",
       "       family_status_id          debt  total_income  \n",
       "count      21525.000000  21525.000000  1.935100e+04  \n",
       "mean           0.972544      0.080883  1.674223e+05  \n",
       "std            1.420324      0.272661  1.029716e+05  \n",
       "min            0.000000      0.000000  2.066726e+04  \n",
       "25%            0.000000      0.000000  1.030532e+05  \n",
       "50%            0.000000      0.000000  1.450179e+05  \n",
       "75%            1.000000      0.000000  2.034351e+05  \n",
       "max            4.000000      1.000000  2.265604e+06  "
      ]
     },
     "metadata": {},
     "output_type": "display_data"
    },
    {
     "data": {
      "text/plain": [
       "children  days_employed   dob_years  education  education_id  family_status     family_status_id  gender  income_type  debt  total_income   purpose                              \n",
       "-1        -9851.184337    44         среднее    1             в разводе         3                 F       сотрудник    0     110990.810581  свой автомобиль                          1\n",
       " 1        -7117.338200    42         среднее    1             женат / замужем   0                 F       госслужащий  0     228199.252819  ремонт жилью                             1\n",
       "          -7137.319761    35         среднее    1             женат / замужем   0                 F       сотрудник    0     129352.711834  недвижимость                             1\n",
       "          -7146.299384    50         высшее     0             женат / замужем   0                 F       сотрудник    0     104888.625546  операции с жильем                        1\n",
       "          -7152.420165    49         среднее    1             женат / замужем   0                 F       сотрудник    0     109556.390632  строительство жилой недвижимости         1\n",
       "                                                                                                                                                                                    ..\n",
       " 0        -1019.065321    45         среднее    1             женат / замужем   0                 F       компаньон    0     217241.515349  получение дополнительного образования    1\n",
       "          -1019.319566    38         высшее     0             женат / замужем   0                 M       компаньон    0     141462.454320  покупка коммерческой недвижимости        1\n",
       "          -1019.684185    62         среднее    1             вдовец / вдова    2                 F       сотрудник    0     81688.829006   операции с жильем                        1\n",
       "          -1020.182597    42         среднее    1             женат / замужем   0                 M       сотрудник    0     142895.155108  строительство жилой недвижимости         1\n",
       " 20        385267.263676  62         среднее    1             гражданский брак  1                 F       пенсионер    0     192221.076774  операции с коммерческой недвижимостью    1\n",
       "Length: 19351, dtype: int64"
      ]
     },
     "metadata": {},
     "output_type": "display_data"
    },
    {
     "data": {
      "text/plain": [
       "'Количество явных дубликатов'"
      ]
     },
     "metadata": {},
     "output_type": "display_data"
    },
    {
     "data": {
      "text/plain": [
       "54"
      ]
     },
     "metadata": {},
     "output_type": "display_data"
    }
   ],
   "source": [
    "get_info(data)"
   ]
  },
  {
   "cell_type": "markdown",
   "id": "f4e20600",
   "metadata": {},
   "source": [
    "Датасет содержит 21 525 строк и 12 колонок:\n",
    " \n",
    " - children — количество детей в семье\n",
    "- days_employed — общий трудовой стаж в днях\n",
    "- dob_years — возраст клиента в годах\n",
    "- education — уровень образования клиента\n",
    "- education_id — идентификатор уровня образования\n",
    "- family_status — семейное положение\n",
    "- family_status_id — идентификатор семейного положения\n",
    "- gender — пол клиента\n",
    "- income_type — тип занятости\n",
    "- debt — имел ли задолженность по возврату кредитов\n",
    "- total_income — ежемесячный доход\n",
    "- purpose — цель получения кредита\n",
    "\n",
    " \n",
    "Можно  отметить следующее:\n",
    "\n",
    "- в столбце total_income есть пропуски и неверный тип данных - вещественый вместо цельночисленного;\n",
    "- в столбце days_employed помимо пропусков есть отрицательные значения\n",
    "- в столбце children есть отрицательные значения \n",
    "- в датасете 54 явных дубликата\n",
    "\n",
    "Устраним далее эти несоответсвия.\n",
    "\n"
   ]
  },
  {
   "cell_type": "markdown",
   "id": "79d8aa7b",
   "metadata": {},
   "source": [
    "### Предобработка данных"
   ]
  },
  {
   "cell_type": "markdown",
   "id": "9d1992ab",
   "metadata": {},
   "source": [
    "#### 3. Выведим количество пропущенных значений в  столбцах "
   ]
  },
  {
   "cell_type": "code",
   "execution_count": 4,
   "id": "42a177d4",
   "metadata": {},
   "outputs": [
    {
     "data": {
      "text/plain": [
       "children               0\n",
       "days_employed       2174\n",
       "dob_years              0\n",
       "education              0\n",
       "education_id           0\n",
       "family_status          0\n",
       "family_status_id       0\n",
       "gender                 0\n",
       "income_type            0\n",
       "debt                   0\n",
       "total_income        2174\n",
       "purpose                0\n",
       "dtype: int64"
      ]
     },
     "execution_count": 4,
     "metadata": {},
     "output_type": "execute_result"
    }
   ],
   "source": [
    "data.isna().sum()"
   ]
  },
  {
   "cell_type": "markdown",
   "id": "80a77098",
   "metadata": {},
   "source": [
    "#### 4. Устраним несоответствия в столбце total_income."
   ]
  },
  {
   "cell_type": "markdown",
   "id": "558ed9d3",
   "metadata": {},
   "source": [
    "В столбцах days_employed и total_income были допущены пропуски  по 2174 строкам из 21 525, то есть \n",
    "пропуски присутствовали в 10% строк.  Наиболее частыми причинами появления пропусков в исходных данных является человеческий фактор и технические ошибки. Если эти пропуски были допущены в одних и тех же  строках, то можно предположить , что заёмщик не работает(пенсионер) или по какой-то причине не может или не хочет указывать эти данные, например,если работает неофициально. \n",
    "\n",
    "Столбец total_income (ежемесячный доход) является ключевым для приводимого исследования, и обработка пропусков в нем, методом заполнения нулями или удалением (игнорирование) могло привести к существенному искажению данных. Таким образом заполнение пропусков медианными значениями в данном случае будет одним из самых простых и надёжных. На сумму дохода сильнее всего влияет тип занятости,  заполним пропуски в этом столбце  медианным значением по каждому типу из столбца `income_type`. \n",
    " "
   ]
  },
  {
   "cell_type": "code",
   "execution_count": 5,
   "id": "59d9f173",
   "metadata": {},
   "outputs": [],
   "source": [
    "for i in data['income_type'].unique():\n",
    "    data.loc[(data['income_type'] == i)&(data['total_income'].isna()), 'total_income']=\\\n",
    "    data.loc[(data['income_type'] == i),'total_income'].median()"
   ]
  },
  {
   "cell_type": "markdown",
   "id": "153e5bdf",
   "metadata": {},
   "source": [
    "Заменим вещественный тип данных в столбце `total_income` на целочисленный с помощью метода `astype()`"
   ]
  },
  {
   "cell_type": "code",
   "execution_count": 6,
   "id": "bd57d397",
   "metadata": {},
   "outputs": [],
   "source": [
    "data['total_income'] = data['total_income'].astype(int)"
   ]
  },
  {
   "cell_type": "markdown",
   "id": "09987075",
   "metadata": {},
   "source": [
    "#### 5. Устраним все аномалии в столбце days_employed"
   ]
  },
  {
   "cell_type": "markdown",
   "id": "d5171933",
   "metadata": {},
   "source": [
    "В столбце days_employed присутствуют отрицательные значения  количества дней трудового стажа, для реальных данных это ненормально. Обработаем значения в этом столбце: заменим все отрицательные значения положительными с помощью метода abs()."
   ]
  },
  {
   "cell_type": "code",
   "execution_count": 7,
   "id": "f1db2c61",
   "metadata": {},
   "outputs": [],
   "source": [
    "data['days_employed'] = data['days_employed'].abs() "
   ]
  },
  {
   "cell_type": "markdown",
   "id": "7820c06e",
   "metadata": {},
   "source": [
    "Теперь заполним пропуски в столбце days_employed медианными значениями по каждому типу занятости income_type."
   ]
  },
  {
   "cell_type": "code",
   "execution_count": 8,
   "id": "a42bdd38",
   "metadata": {},
   "outputs": [],
   "source": [
    "for i in data['income_type'].unique():\n",
    "    data.loc[(data['income_type'] == i)&(data['days_employed'].isna()), 'days_employed']=\\\n",
    "    data.loc[(data['income_type'] == i),'days_employed'].median()"
   ]
  },
  {
   "cell_type": "markdown",
   "id": "79d2b146",
   "metadata": {},
   "source": [
    "Для каждого типа занятости выведите медианное значение трудового стажа days_employed в днях."
   ]
  },
  {
   "cell_type": "code",
   "execution_count": 9,
   "id": "473217b7",
   "metadata": {},
   "outputs": [
    {
     "data": {
      "text/plain": [
       "income_type\n",
       "безработный        366413.652744\n",
       "в декрете            3296.759962\n",
       "госслужащий          2689.368353\n",
       "компаньон            1547.382223\n",
       "пенсионер          365213.306266\n",
       "предприниматель       520.848083\n",
       "сотрудник            1574.202821\n",
       "студент               578.751554\n",
       "Name: days_employed, dtype: float64"
      ]
     },
     "execution_count": 9,
     "metadata": {},
     "output_type": "execute_result"
    }
   ],
   "source": [
    "data.groupby('income_type')['days_employed'].median()"
   ]
  },
  {
   "cell_type": "markdown",
   "id": "e1afb1ac",
   "metadata": {},
   "source": [
    "У двух типов (безработные и пенсионеры) получатся аномально большие значения. Исправить такие значения сложно, поэтому оставьте их как есть. Тем более этот столбец не понадобится вам для исследования."
   ]
  },
  {
   "cell_type": "markdown",
   "id": "a30128b4",
   "metadata": {},
   "source": [
    "Заполним пропуски в столбце days_employed медианными значениями по каждому типу занятости income_type и проверим, что все пропуски заполнены"
   ]
  },
  {
   "cell_type": "code",
   "execution_count": 10,
   "id": "145061d4",
   "metadata": {},
   "outputs": [
    {
     "data": {
      "text/plain": [
       "children            0\n",
       "days_employed       0\n",
       "dob_years           0\n",
       "education           0\n",
       "education_id        0\n",
       "family_status       0\n",
       "family_status_id    0\n",
       "gender              0\n",
       "income_type         0\n",
       "debt                0\n",
       "total_income        0\n",
       "purpose             0\n",
       "dtype: int64"
      ]
     },
     "execution_count": 10,
     "metadata": {},
     "output_type": "execute_result"
    }
   ],
   "source": [
    "for i in data['income_type'].unique():\n",
    "    data.loc[(data['income_type'] == i)&(data['days_employed'].isna()), 'days_employed']=\\\n",
    "    data.loc[(data['income_type'] == i),'days_employed'].median()\n",
    "data.isna().sum()"
   ]
  },
  {
   "cell_type": "markdown",
   "id": "2cc79948",
   "metadata": {},
   "source": [
    "#### 5. Обработаем аномалии в столбце children"
   ]
  },
  {
   "cell_type": "markdown",
   "id": "4ef0bbce",
   "metadata": {},
   "source": [
    "Выведем перечень уникальных значений столбца children."
   ]
  },
  {
   "cell_type": "code",
   "execution_count": 11,
   "id": "55fc7461",
   "metadata": {},
   "outputs": [
    {
     "data": {
      "text/plain": [
       "array([ 1,  0,  3,  2, -1,  4, 20,  5], dtype=int64)"
      ]
     },
     "execution_count": 11,
     "metadata": {},
     "output_type": "execute_result"
    }
   ],
   "source": [
    "data['children'].unique()"
   ]
  },
  {
   "cell_type": "markdown",
   "id": "47c9ba92",
   "metadata": {},
   "source": [
    "В столбце children есть два аномальных значения - \"-1\" и \"20\" . Удалим строки, в которых они встречаются и выведем  перечень уникальных значений столбца children еще раз, чтобы убедиться, что артефакты удалены."
   ]
  },
  {
   "cell_type": "code",
   "execution_count": 12,
   "id": "ab41b0ac",
   "metadata": {},
   "outputs": [
    {
     "data": {
      "text/plain": [
       "array([1, 0, 3, 2, 4, 5], dtype=int64)"
      ]
     },
     "execution_count": 12,
     "metadata": {},
     "output_type": "execute_result"
    }
   ],
   "source": [
    "data = data[(data['children'] != -1) & (data['children'] != 20)]\n",
    "data['children'].unique()"
   ]
  },
  {
   "cell_type": "markdown",
   "id": "e2dbd191",
   "metadata": {},
   "source": [
    "#### 6. Обработка дубликатов"
   ]
  },
  {
   "cell_type": "markdown",
   "id": "07d206be",
   "metadata": {},
   "source": [
    "В датасете 54 явных дубликата, удалим их"
   ]
  },
  {
   "cell_type": "code",
   "execution_count": 13,
   "id": "092ffd3f",
   "metadata": {},
   "outputs": [
    {
     "data": {
      "text/html": [
       "<div>\n",
       "<style scoped>\n",
       "    .dataframe tbody tr th:only-of-type {\n",
       "        vertical-align: middle;\n",
       "    }\n",
       "\n",
       "    .dataframe tbody tr th {\n",
       "        vertical-align: top;\n",
       "    }\n",
       "\n",
       "    .dataframe thead th {\n",
       "        text-align: right;\n",
       "    }\n",
       "</style>\n",
       "<table border=\"1\" class=\"dataframe\">\n",
       "  <thead>\n",
       "    <tr style=\"text-align: right;\">\n",
       "      <th></th>\n",
       "      <th>children</th>\n",
       "      <th>days_employed</th>\n",
       "      <th>dob_years</th>\n",
       "      <th>education</th>\n",
       "      <th>education_id</th>\n",
       "      <th>family_status</th>\n",
       "      <th>family_status_id</th>\n",
       "      <th>gender</th>\n",
       "      <th>income_type</th>\n",
       "      <th>debt</th>\n",
       "      <th>total_income</th>\n",
       "      <th>purpose</th>\n",
       "    </tr>\n",
       "  </thead>\n",
       "  <tbody>\n",
       "    <tr>\n",
       "      <th>0</th>\n",
       "      <td>1</td>\n",
       "      <td>8437.673028</td>\n",
       "      <td>42</td>\n",
       "      <td>высшее</td>\n",
       "      <td>0</td>\n",
       "      <td>женат / замужем</td>\n",
       "      <td>0</td>\n",
       "      <td>F</td>\n",
       "      <td>сотрудник</td>\n",
       "      <td>0</td>\n",
       "      <td>253875</td>\n",
       "      <td>покупка жилья</td>\n",
       "    </tr>\n",
       "    <tr>\n",
       "      <th>1</th>\n",
       "      <td>1</td>\n",
       "      <td>4024.803754</td>\n",
       "      <td>36</td>\n",
       "      <td>среднее</td>\n",
       "      <td>1</td>\n",
       "      <td>женат / замужем</td>\n",
       "      <td>0</td>\n",
       "      <td>F</td>\n",
       "      <td>сотрудник</td>\n",
       "      <td>0</td>\n",
       "      <td>112080</td>\n",
       "      <td>приобретение автомобиля</td>\n",
       "    </tr>\n",
       "    <tr>\n",
       "      <th>2</th>\n",
       "      <td>0</td>\n",
       "      <td>5623.422610</td>\n",
       "      <td>33</td>\n",
       "      <td>Среднее</td>\n",
       "      <td>1</td>\n",
       "      <td>женат / замужем</td>\n",
       "      <td>0</td>\n",
       "      <td>M</td>\n",
       "      <td>сотрудник</td>\n",
       "      <td>0</td>\n",
       "      <td>145885</td>\n",
       "      <td>покупка жилья</td>\n",
       "    </tr>\n",
       "    <tr>\n",
       "      <th>3</th>\n",
       "      <td>3</td>\n",
       "      <td>4124.747207</td>\n",
       "      <td>32</td>\n",
       "      <td>среднее</td>\n",
       "      <td>1</td>\n",
       "      <td>женат / замужем</td>\n",
       "      <td>0</td>\n",
       "      <td>M</td>\n",
       "      <td>сотрудник</td>\n",
       "      <td>0</td>\n",
       "      <td>267628</td>\n",
       "      <td>дополнительное образование</td>\n",
       "    </tr>\n",
       "    <tr>\n",
       "      <th>4</th>\n",
       "      <td>0</td>\n",
       "      <td>340266.072047</td>\n",
       "      <td>53</td>\n",
       "      <td>среднее</td>\n",
       "      <td>1</td>\n",
       "      <td>гражданский брак</td>\n",
       "      <td>1</td>\n",
       "      <td>F</td>\n",
       "      <td>пенсионер</td>\n",
       "      <td>0</td>\n",
       "      <td>158616</td>\n",
       "      <td>сыграть свадьбу</td>\n",
       "    </tr>\n",
       "    <tr>\n",
       "      <th>...</th>\n",
       "      <td>...</td>\n",
       "      <td>...</td>\n",
       "      <td>...</td>\n",
       "      <td>...</td>\n",
       "      <td>...</td>\n",
       "      <td>...</td>\n",
       "      <td>...</td>\n",
       "      <td>...</td>\n",
       "      <td>...</td>\n",
       "      <td>...</td>\n",
       "      <td>...</td>\n",
       "      <td>...</td>\n",
       "    </tr>\n",
       "    <tr>\n",
       "      <th>21520</th>\n",
       "      <td>1</td>\n",
       "      <td>4529.316663</td>\n",
       "      <td>43</td>\n",
       "      <td>среднее</td>\n",
       "      <td>1</td>\n",
       "      <td>гражданский брак</td>\n",
       "      <td>1</td>\n",
       "      <td>F</td>\n",
       "      <td>компаньон</td>\n",
       "      <td>0</td>\n",
       "      <td>224791</td>\n",
       "      <td>операции с жильем</td>\n",
       "    </tr>\n",
       "    <tr>\n",
       "      <th>21521</th>\n",
       "      <td>0</td>\n",
       "      <td>343937.404131</td>\n",
       "      <td>67</td>\n",
       "      <td>среднее</td>\n",
       "      <td>1</td>\n",
       "      <td>женат / замужем</td>\n",
       "      <td>0</td>\n",
       "      <td>F</td>\n",
       "      <td>пенсионер</td>\n",
       "      <td>0</td>\n",
       "      <td>155999</td>\n",
       "      <td>сделка с автомобилем</td>\n",
       "    </tr>\n",
       "    <tr>\n",
       "      <th>21522</th>\n",
       "      <td>1</td>\n",
       "      <td>2113.346888</td>\n",
       "      <td>38</td>\n",
       "      <td>среднее</td>\n",
       "      <td>1</td>\n",
       "      <td>гражданский брак</td>\n",
       "      <td>1</td>\n",
       "      <td>M</td>\n",
       "      <td>сотрудник</td>\n",
       "      <td>1</td>\n",
       "      <td>89672</td>\n",
       "      <td>недвижимость</td>\n",
       "    </tr>\n",
       "    <tr>\n",
       "      <th>21523</th>\n",
       "      <td>3</td>\n",
       "      <td>3112.481705</td>\n",
       "      <td>38</td>\n",
       "      <td>среднее</td>\n",
       "      <td>1</td>\n",
       "      <td>женат / замужем</td>\n",
       "      <td>0</td>\n",
       "      <td>M</td>\n",
       "      <td>сотрудник</td>\n",
       "      <td>1</td>\n",
       "      <td>244093</td>\n",
       "      <td>на покупку своего автомобиля</td>\n",
       "    </tr>\n",
       "    <tr>\n",
       "      <th>21524</th>\n",
       "      <td>2</td>\n",
       "      <td>1984.507589</td>\n",
       "      <td>40</td>\n",
       "      <td>среднее</td>\n",
       "      <td>1</td>\n",
       "      <td>женат / замужем</td>\n",
       "      <td>0</td>\n",
       "      <td>F</td>\n",
       "      <td>сотрудник</td>\n",
       "      <td>0</td>\n",
       "      <td>82047</td>\n",
       "      <td>на покупку автомобиля</td>\n",
       "    </tr>\n",
       "  </tbody>\n",
       "</table>\n",
       "<p>21348 rows × 12 columns</p>\n",
       "</div>"
      ],
      "text/plain": [
       "       children  days_employed  dob_years education  education_id  \\\n",
       "0             1    8437.673028         42    высшее             0   \n",
       "1             1    4024.803754         36   среднее             1   \n",
       "2             0    5623.422610         33   Среднее             1   \n",
       "3             3    4124.747207         32   среднее             1   \n",
       "4             0  340266.072047         53   среднее             1   \n",
       "...         ...            ...        ...       ...           ...   \n",
       "21520         1    4529.316663         43   среднее             1   \n",
       "21521         0  343937.404131         67   среднее             1   \n",
       "21522         1    2113.346888         38   среднее             1   \n",
       "21523         3    3112.481705         38   среднее             1   \n",
       "21524         2    1984.507589         40   среднее             1   \n",
       "\n",
       "          family_status  family_status_id gender income_type  debt  \\\n",
       "0       женат / замужем                 0      F   сотрудник     0   \n",
       "1       женат / замужем                 0      F   сотрудник     0   \n",
       "2       женат / замужем                 0      M   сотрудник     0   \n",
       "3       женат / замужем                 0      M   сотрудник     0   \n",
       "4      гражданский брак                 1      F   пенсионер     0   \n",
       "...                 ...               ...    ...         ...   ...   \n",
       "21520  гражданский брак                 1      F   компаньон     0   \n",
       "21521   женат / замужем                 0      F   пенсионер     0   \n",
       "21522  гражданский брак                 1      M   сотрудник     1   \n",
       "21523   женат / замужем                 0      M   сотрудник     1   \n",
       "21524   женат / замужем                 0      F   сотрудник     0   \n",
       "\n",
       "       total_income                       purpose  \n",
       "0            253875                 покупка жилья  \n",
       "1            112080       приобретение автомобиля  \n",
       "2            145885                 покупка жилья  \n",
       "3            267628    дополнительное образование  \n",
       "4            158616               сыграть свадьбу  \n",
       "...             ...                           ...  \n",
       "21520        224791             операции с жильем  \n",
       "21521        155999          сделка с автомобилем  \n",
       "21522         89672                  недвижимость  \n",
       "21523        244093  на покупку своего автомобиля  \n",
       "21524         82047         на покупку автомобиля  \n",
       "\n",
       "[21348 rows x 12 columns]"
      ]
     },
     "execution_count": 13,
     "metadata": {},
     "output_type": "execute_result"
    }
   ],
   "source": [
    "data.drop_duplicates()"
   ]
  },
  {
   "cell_type": "markdown",
   "id": "9c02cff4",
   "metadata": {},
   "source": [
    "В столбце education столбце есть одни и те же значения, но записанные по-разному: с использованием заглавных и строчных букв. Приведем их к нижнему регистру и посчитаем еще раз число дубликатов."
   ]
  },
  {
   "cell_type": "code",
   "execution_count": 14,
   "id": "194f3af9",
   "metadata": {},
   "outputs": [
    {
     "data": {
      "text/plain": [
       "'Число явных дубликатов в датасете'"
      ]
     },
     "metadata": {},
     "output_type": "display_data"
    },
    {
     "data": {
      "text/plain": [
       "71"
      ]
     },
     "metadata": {},
     "output_type": "display_data"
    }
   ],
   "source": [
    "data['education']=data['education'].str.lower()\n",
    "display (\"Число явных дубликатов в датасете\",data.duplicated().sum())"
   ]
  },
  {
   "cell_type": "markdown",
   "id": "cb5a0747",
   "metadata": {},
   "source": [
    "После смены реестра в столбце education нижния в датасете число явных дубликатов выросло до 71, удалим их"
   ]
  },
  {
   "cell_type": "code",
   "execution_count": 15,
   "id": "36f884fe",
   "metadata": {},
   "outputs": [
    {
     "data": {
      "text/plain": [
       "'Число явных дубликатов в датасете'"
      ]
     },
     "metadata": {},
     "output_type": "display_data"
    },
    {
     "data": {
      "text/plain": [
       "0"
      ]
     },
     "metadata": {},
     "output_type": "display_data"
    }
   ],
   "source": [
    "data = data.drop_duplicates()\n",
    "display (\"Число явных дубликатов в датасете\",data.duplicated().sum())"
   ]
  },
  {
   "cell_type": "markdown",
   "id": "857920f7",
   "metadata": {},
   "source": [
    "#### 7.Категоризация данных"
   ]
  },
  {
   "cell_type": "markdown",
   "id": "7c5742f8",
   "metadata": {},
   "source": [
    " На основании диапазонов, указанных ниже, создадим в датафрейме `data` столбец `total_income_category` с категориями:\n",
    "\n",
    "- 0–30000 — `'E'`;\n",
    "- 30001–50000 — `'D'`;\n",
    "- 50001–200000 — `'C'`;\n",
    "- 200001–1000000 — `'B'`;\n",
    "- 1000001 и выше — `'A'`.\n",
    "\n",
    "\n",
    "Например, кредитополучателю с доходом 25000 нужно назначить категорию `'E'`, а клиенту, получающему 235000, — `'B'`. Используем собственную функцию с именем `categorize_income()` и метод `apply()`."
   ]
  },
  {
   "cell_type": "code",
   "execution_count": 16,
   "id": "45a1f466",
   "metadata": {},
   "outputs": [],
   "source": [
    "def categorize_income(income):\n",
    "    if income < 30001:\n",
    "        return 'E'\n",
    "    if income < 50001:\n",
    "        return 'D'\n",
    "    if income < 200001:\n",
    "        return 'C'\n",
    "    if income < 1000000:\n",
    "        return 'B'\n",
    "    return 'A' # создаем функцию categorize_income()"
   ]
  },
  {
   "cell_type": "code",
   "execution_count": 17,
   "id": "261dbe3b",
   "metadata": {},
   "outputs": [],
   "source": [
    "data['total_income_category'] = data['total_income'].apply(categorize_income)# примените функцию методом apply()"
   ]
  },
  {
   "cell_type": "markdown",
   "id": "b81438c6",
   "metadata": {},
   "source": [
    "Выведим на экран перечень уникальных целей взятия кредита из столбца purpose."
   ]
  },
  {
   "cell_type": "code",
   "execution_count": 18,
   "id": "d5e9b624",
   "metadata": {},
   "outputs": [
    {
     "data": {
      "text/plain": [
       "array(['покупка жилья', 'приобретение автомобиля',\n",
       "       'дополнительное образование', 'сыграть свадьбу',\n",
       "       'операции с жильем', 'образование', 'на проведение свадьбы',\n",
       "       'покупка жилья для семьи', 'покупка недвижимости',\n",
       "       'покупка коммерческой недвижимости', 'покупка жилой недвижимости',\n",
       "       'строительство собственной недвижимости', 'недвижимость',\n",
       "       'строительство недвижимости', 'на покупку подержанного автомобиля',\n",
       "       'на покупку своего автомобиля',\n",
       "       'операции с коммерческой недвижимостью',\n",
       "       'строительство жилой недвижимости', 'жилье',\n",
       "       'операции со своей недвижимостью', 'автомобили',\n",
       "       'заняться образованием', 'сделка с подержанным автомобилем',\n",
       "       'получение образования', 'автомобиль', 'свадьба',\n",
       "       'получение дополнительного образования', 'покупка своего жилья',\n",
       "       'операции с недвижимостью', 'получение высшего образования',\n",
       "       'свой автомобиль', 'сделка с автомобилем',\n",
       "       'профильное образование', 'высшее образование',\n",
       "       'покупка жилья для сдачи', 'на покупку автомобиля', 'ремонт жилью',\n",
       "       'заняться высшим образованием'], dtype=object)"
      ]
     },
     "execution_count": 18,
     "metadata": {},
     "output_type": "execute_result"
    }
   ],
   "source": [
    "data['purpose'].unique()"
   ]
  },
  {
   "cell_type": "markdown",
   "id": "4ac8e08a",
   "metadata": {},
   "source": [
    "Укрупним категории и создим функцию, которая на основании данных из столбца purpose сформирует новый столбец purpose_category, в который войдут следующие категории:\n",
    "\n",
    "- операции с автомобилем,\n",
    "- операции с недвижимостью,\n",
    "- проведение свадьбы,\n",
    "- получение образовани'.\n",
    "\n",
    "Например, если в столбце purpose находится подстрока 'на покупку автомобиля', то в столбце purpose_category должна появится строка 'операции с автомобилем'.\n",
    "\n",
    "Выведем первые 5 строк датасета с новыми категориями."
   ]
  },
  {
   "cell_type": "code",
   "execution_count": 19,
   "id": "147a6f45",
   "metadata": {},
   "outputs": [],
   "source": [
    "def categorize_purpose(purpose):\n",
    "    if 'автомоб' in purpose:\n",
    "        return 'операции с автомобилем'\n",
    "    if 'свадьб' in purpose:\n",
    "        return 'проведение свадьбы'\n",
    "    if 'образован' in purpose:\n",
    "        return 'получение образования'\n",
    "    return 'операции с недвижимостью'"
   ]
  },
  {
   "cell_type": "code",
   "execution_count": 20,
   "id": "d0f2c6be",
   "metadata": {},
   "outputs": [
    {
     "data": {
      "text/html": [
       "<div>\n",
       "<style scoped>\n",
       "    .dataframe tbody tr th:only-of-type {\n",
       "        vertical-align: middle;\n",
       "    }\n",
       "\n",
       "    .dataframe tbody tr th {\n",
       "        vertical-align: top;\n",
       "    }\n",
       "\n",
       "    .dataframe thead th {\n",
       "        text-align: right;\n",
       "    }\n",
       "</style>\n",
       "<table border=\"1\" class=\"dataframe\">\n",
       "  <thead>\n",
       "    <tr style=\"text-align: right;\">\n",
       "      <th></th>\n",
       "      <th>children</th>\n",
       "      <th>days_employed</th>\n",
       "      <th>dob_years</th>\n",
       "      <th>education</th>\n",
       "      <th>education_id</th>\n",
       "      <th>family_status</th>\n",
       "      <th>family_status_id</th>\n",
       "      <th>gender</th>\n",
       "      <th>income_type</th>\n",
       "      <th>debt</th>\n",
       "      <th>total_income</th>\n",
       "      <th>purpose</th>\n",
       "      <th>total_income_category</th>\n",
       "      <th>purpose_category</th>\n",
       "    </tr>\n",
       "  </thead>\n",
       "  <tbody>\n",
       "    <tr>\n",
       "      <th>0</th>\n",
       "      <td>1</td>\n",
       "      <td>8437.673028</td>\n",
       "      <td>42</td>\n",
       "      <td>высшее</td>\n",
       "      <td>0</td>\n",
       "      <td>женат / замужем</td>\n",
       "      <td>0</td>\n",
       "      <td>F</td>\n",
       "      <td>сотрудник</td>\n",
       "      <td>0</td>\n",
       "      <td>253875</td>\n",
       "      <td>покупка жилья</td>\n",
       "      <td>B</td>\n",
       "      <td>операции с недвижимостью</td>\n",
       "    </tr>\n",
       "    <tr>\n",
       "      <th>1</th>\n",
       "      <td>1</td>\n",
       "      <td>4024.803754</td>\n",
       "      <td>36</td>\n",
       "      <td>среднее</td>\n",
       "      <td>1</td>\n",
       "      <td>женат / замужем</td>\n",
       "      <td>0</td>\n",
       "      <td>F</td>\n",
       "      <td>сотрудник</td>\n",
       "      <td>0</td>\n",
       "      <td>112080</td>\n",
       "      <td>приобретение автомобиля</td>\n",
       "      <td>C</td>\n",
       "      <td>операции с автомобилем</td>\n",
       "    </tr>\n",
       "    <tr>\n",
       "      <th>2</th>\n",
       "      <td>0</td>\n",
       "      <td>5623.422610</td>\n",
       "      <td>33</td>\n",
       "      <td>среднее</td>\n",
       "      <td>1</td>\n",
       "      <td>женат / замужем</td>\n",
       "      <td>0</td>\n",
       "      <td>M</td>\n",
       "      <td>сотрудник</td>\n",
       "      <td>0</td>\n",
       "      <td>145885</td>\n",
       "      <td>покупка жилья</td>\n",
       "      <td>C</td>\n",
       "      <td>операции с недвижимостью</td>\n",
       "    </tr>\n",
       "    <tr>\n",
       "      <th>3</th>\n",
       "      <td>3</td>\n",
       "      <td>4124.747207</td>\n",
       "      <td>32</td>\n",
       "      <td>среднее</td>\n",
       "      <td>1</td>\n",
       "      <td>женат / замужем</td>\n",
       "      <td>0</td>\n",
       "      <td>M</td>\n",
       "      <td>сотрудник</td>\n",
       "      <td>0</td>\n",
       "      <td>267628</td>\n",
       "      <td>дополнительное образование</td>\n",
       "      <td>B</td>\n",
       "      <td>получение образования</td>\n",
       "    </tr>\n",
       "    <tr>\n",
       "      <th>4</th>\n",
       "      <td>0</td>\n",
       "      <td>340266.072047</td>\n",
       "      <td>53</td>\n",
       "      <td>среднее</td>\n",
       "      <td>1</td>\n",
       "      <td>гражданский брак</td>\n",
       "      <td>1</td>\n",
       "      <td>F</td>\n",
       "      <td>пенсионер</td>\n",
       "      <td>0</td>\n",
       "      <td>158616</td>\n",
       "      <td>сыграть свадьбу</td>\n",
       "      <td>C</td>\n",
       "      <td>проведение свадьбы</td>\n",
       "    </tr>\n",
       "  </tbody>\n",
       "</table>\n",
       "</div>"
      ],
      "text/plain": [
       "   children  days_employed  dob_years education  education_id  \\\n",
       "0         1    8437.673028         42    высшее             0   \n",
       "1         1    4024.803754         36   среднее             1   \n",
       "2         0    5623.422610         33   среднее             1   \n",
       "3         3    4124.747207         32   среднее             1   \n",
       "4         0  340266.072047         53   среднее             1   \n",
       "\n",
       "      family_status  family_status_id gender income_type  debt  total_income  \\\n",
       "0   женат / замужем                 0      F   сотрудник     0        253875   \n",
       "1   женат / замужем                 0      F   сотрудник     0        112080   \n",
       "2   женат / замужем                 0      M   сотрудник     0        145885   \n",
       "3   женат / замужем                 0      M   сотрудник     0        267628   \n",
       "4  гражданский брак                 1      F   пенсионер     0        158616   \n",
       "\n",
       "                      purpose total_income_category          purpose_category  \n",
       "0               покупка жилья                     B  операции с недвижимостью  \n",
       "1     приобретение автомобиля                     C    операции с автомобилем  \n",
       "2               покупка жилья                     C  операции с недвижимостью  \n",
       "3  дополнительное образование                     B     получение образования  \n",
       "4             сыграть свадьбу                     C        проведение свадьбы  "
      ]
     },
     "execution_count": 20,
     "metadata": {},
     "output_type": "execute_result"
    }
   ],
   "source": [
    "data['purpose_category'] = data['purpose'].apply(categorize_purpose)\n",
    "data.head(5)"
   ]
  },
  {
   "cell_type": "markdown",
   "id": "e2cee38b",
   "metadata": {},
   "source": [
    "#### 8. Исследование данных и ответы на вопросыы заказчика"
   ]
  },
  {
   "cell_type": "markdown",
   "id": "0dbeda3e",
   "metadata": {},
   "source": [
    "#### 8.1 Есть ли зависимость между количеством детей и возвратом кредита в срок?"
   ]
  },
  {
   "cell_type": "code",
   "execution_count": 21,
   "id": "8628a101",
   "metadata": {},
   "outputs": [
    {
     "data": {
      "text/html": [
       "<div>\n",
       "<style scoped>\n",
       "    .dataframe tbody tr th:only-of-type {\n",
       "        vertical-align: middle;\n",
       "    }\n",
       "\n",
       "    .dataframe tbody tr th {\n",
       "        vertical-align: top;\n",
       "    }\n",
       "\n",
       "    .dataframe thead th {\n",
       "        text-align: right;\n",
       "    }\n",
       "</style>\n",
       "<table border=\"1\" class=\"dataframe\">\n",
       "  <thead>\n",
       "    <tr style=\"text-align: right;\">\n",
       "      <th></th>\n",
       "      <th>дети, количество</th>\n",
       "      <th>просроченные кредиты, количество</th>\n",
       "      <th>просроченные кредиты, сумма</th>\n",
       "      <th>просроченные кредиты, %</th>\n",
       "    </tr>\n",
       "  </thead>\n",
       "  <tbody>\n",
       "    <tr>\n",
       "      <th>0</th>\n",
       "      <td>0</td>\n",
       "      <td>14091</td>\n",
       "      <td>1063</td>\n",
       "      <td>7.54</td>\n",
       "    </tr>\n",
       "    <tr>\n",
       "      <th>1</th>\n",
       "      <td>1</td>\n",
       "      <td>4808</td>\n",
       "      <td>444</td>\n",
       "      <td>9.23</td>\n",
       "    </tr>\n",
       "    <tr>\n",
       "      <th>2</th>\n",
       "      <td>2</td>\n",
       "      <td>2052</td>\n",
       "      <td>194</td>\n",
       "      <td>9.45</td>\n",
       "    </tr>\n",
       "    <tr>\n",
       "      <th>3</th>\n",
       "      <td>3</td>\n",
       "      <td>330</td>\n",
       "      <td>27</td>\n",
       "      <td>8.18</td>\n",
       "    </tr>\n",
       "    <tr>\n",
       "      <th>4</th>\n",
       "      <td>4</td>\n",
       "      <td>41</td>\n",
       "      <td>4</td>\n",
       "      <td>9.76</td>\n",
       "    </tr>\n",
       "    <tr>\n",
       "      <th>5</th>\n",
       "      <td>5</td>\n",
       "      <td>9</td>\n",
       "      <td>0</td>\n",
       "      <td>0.00</td>\n",
       "    </tr>\n",
       "  </tbody>\n",
       "</table>\n",
       "</div>"
      ],
      "text/plain": [
       "   дети, количество  просроченные кредиты, количество  \\\n",
       "0                 0                             14091   \n",
       "1                 1                              4808   \n",
       "2                 2                              2052   \n",
       "3                 3                               330   \n",
       "4                 4                                41   \n",
       "5                 5                                 9   \n",
       "\n",
       "   просроченные кредиты, сумма  просроченные кредиты, %  \n",
       "0                         1063                     7.54  \n",
       "1                          444                     9.23  \n",
       "2                          194                     9.45  \n",
       "3                           27                     8.18  \n",
       "4                            4                     9.76  \n",
       "5                            0                     0.00  "
      ]
     },
     "metadata": {},
     "output_type": "display_data"
    },
    {
     "data": {
      "image/png": "[encoded data removed]",
      "text/plain": [
       "<Figure size 640x480 with 1 Axes>"
      ]
     },
     "metadata": {},
     "output_type": "display_data"
    }
   ],
   "source": [
    "import seaborn as sns\n",
    "import matplotlib.pyplot as plt\n",
    "data_pivot_kids=data.pivot_table(index=['children'],  values='debt',  aggfunc=['count','sum', 'mean']).reset_index()\n",
    "data_pivot_kids.columns =['дети, количество','просроченные кредиты, количество', 'просроченные кредиты, сумма', 'просроченные кредиты, %']\n",
    "data_pivot_kids['просроченные кредиты, %']=round((data_pivot_kids['просроченные кредиты, %']*100),2)\n",
    "display(data_pivot_kids)\n",
    "\n",
    "sns.barplot(x=data_pivot_kids['просроченные кредиты, %'], y=data_pivot_kids['дети, количество'], orient= 'h')\n",
    "plt.title('Зависимость между количеством детей и процентом просроченных кредитов');\n"
   ]
  },
  {
   "cell_type": "markdown",
   "id": "f637b5f3",
   "metadata": {},
   "source": [
    "**Вывод:**  При исследовании зависимости между количеством детей и возвратом кредита в срок, из приведённых выше можем сделать следующие выводы:\n",
    "- самый большой процент заёмщиков с просроченными кредитами наблюдается в трех группах  - с четырьмя ,  одним и двумя детьми. Процент задержек по кредитам в этих группах составляет 9,2-9,8 %, самый большой - у заёмщиков с четырьмя детьми.\n",
    "- в группе заёмщиков с тремя детьми процент просроченных кредитов составил среднее значение в 8,2%\n",
    "- меньше всего задолженностей по кредитам у заёмщиков без детей - 7,5 %, у заёмщиков с пятью детьми просроченные  кредиты отсутствуют.\n",
    "- группы  заёмщиков с 3-5 детьми являются  малочисленными и совокупно составляют 1,7% выборки, что говорит о их малозначительности, а значит  анализе данных их влиянием можно пренебречь. Анализируя самые  многочисленные группы с количеством детей 0-2.  можно сделать вывод о  том, что количество детей значительно влияет на возврат кредитов в срок и с ростом количества детей растёт и процент просрочки кредита."
   ]
  },
  {
   "cell_type": "markdown",
   "id": "2dfcf1d6",
   "metadata": {},
   "source": [
    "#### 8.2 Есть ли зависимость между семейным положением и возвратом кредита в срок?"
   ]
  },
  {
   "cell_type": "code",
   "execution_count": 22,
   "id": "3e63ef7f",
   "metadata": {},
   "outputs": [
    {
     "data": {
      "text/html": [
       "<div>\n",
       "<style scoped>\n",
       "    .dataframe tbody tr th:only-of-type {\n",
       "        vertical-align: middle;\n",
       "    }\n",
       "\n",
       "    .dataframe tbody tr th {\n",
       "        vertical-align: top;\n",
       "    }\n",
       "\n",
       "    .dataframe thead th {\n",
       "        text-align: right;\n",
       "    }\n",
       "</style>\n",
       "<table border=\"1\" class=\"dataframe\">\n",
       "  <thead>\n",
       "    <tr style=\"text-align: right;\">\n",
       "      <th></th>\n",
       "      <th>семейное положение</th>\n",
       "      <th>просроченные кредиты, количество</th>\n",
       "      <th>просроченные кредиты, сумма</th>\n",
       "      <th>просроченные кредиты, %</th>\n",
       "    </tr>\n",
       "  </thead>\n",
       "  <tbody>\n",
       "    <tr>\n",
       "      <th>0</th>\n",
       "      <td>Не женат / не замужем</td>\n",
       "      <td>2796</td>\n",
       "      <td>273</td>\n",
       "      <td>9.76</td>\n",
       "    </tr>\n",
       "    <tr>\n",
       "      <th>1</th>\n",
       "      <td>в разводе</td>\n",
       "      <td>1189</td>\n",
       "      <td>84</td>\n",
       "      <td>7.06</td>\n",
       "    </tr>\n",
       "    <tr>\n",
       "      <th>2</th>\n",
       "      <td>вдовец / вдова</td>\n",
       "      <td>951</td>\n",
       "      <td>63</td>\n",
       "      <td>6.62</td>\n",
       "    </tr>\n",
       "    <tr>\n",
       "      <th>3</th>\n",
       "      <td>гражданский брак</td>\n",
       "      <td>4134</td>\n",
       "      <td>385</td>\n",
       "      <td>9.31</td>\n",
       "    </tr>\n",
       "    <tr>\n",
       "      <th>4</th>\n",
       "      <td>женат / замужем</td>\n",
       "      <td>12261</td>\n",
       "      <td>927</td>\n",
       "      <td>7.56</td>\n",
       "    </tr>\n",
       "  </tbody>\n",
       "</table>\n",
       "</div>"
      ],
      "text/plain": [
       "      семейное положение  просроченные кредиты, количество  \\\n",
       "0  Не женат / не замужем                              2796   \n",
       "1              в разводе                              1189   \n",
       "2         вдовец / вдова                               951   \n",
       "3       гражданский брак                              4134   \n",
       "4        женат / замужем                             12261   \n",
       "\n",
       "   просроченные кредиты, сумма  просроченные кредиты, %  \n",
       "0                          273                     9.76  \n",
       "1                           84                     7.06  \n",
       "2                           63                     6.62  \n",
       "3                          385                     9.31  \n",
       "4                          927                     7.56  "
      ]
     },
     "metadata": {},
     "output_type": "display_data"
    },
    {
     "data": {
      "image/png": "[encoded data removed]",
      "text/plain": [
       "<Figure size 640x480 with 1 Axes>"
      ]
     },
     "metadata": {},
     "output_type": "display_data"
    }
   ],
   "source": [
    "data_pivot_family=data.pivot_table(index=['family_status'],  values='debt',  aggfunc=['count','sum', 'mean']).reset_index()\n",
    "data_pivot_family.columns =['семейное положение','просроченные кредиты, количество', 'просроченные кредиты, сумма', 'просроченные кредиты, %']\n",
    "data_pivot_family['просроченные кредиты, %']=round((data_pivot_family['просроченные кредиты, %']*100),2)\n",
    "display(data_pivot_family)\n",
    "\n",
    "sns.barplot(x=data_pivot_family['просроченные кредиты, %'], y=data_pivot_family['семейное положение'], orient='h')\n",
    "plt.title(\"Зависимость между семейным положением и процентом просроченных кредитов\");"
   ]
  },
  {
   "cell_type": "markdown",
   "id": "adc0a580",
   "metadata": {},
   "source": [
    "**Вывод:** При анализе зависимости между семейным положением и возвратом кредита в срок можно выделить три большие группы со схожим процентом просроченных кредитов:\n",
    "- заёмщики, не состоящие в официальном браке( категории \"Не женат / не замужем\" и \"гражданский брак\"), процент невозврата кредита в срок 9,3-9,8%\n",
    "- заёмщики, состоящие в официальном браке в данный момент (категория \"женат / замужем\"), процент невозврата кредита в срок 6,6-7,5%\n",
    "- заёмщики, состоящие в официальном браке ранее(категории \"в разводе\" и \"вдовец / вдова\"), процент невозврата кредита в срок 6,6-7,1%\n",
    "\n",
    "Из приведённых данных самыми надёжными  являются заёмщики, состоящие в официальном браке в настоящее время  или ранее ."
   ]
  },
  {
   "cell_type": "markdown",
   "id": "d3af1da5",
   "metadata": {},
   "source": [
    "#### 8.3 Есть ли зависимость между уровнем дохода и возвратом кредита в срок?"
   ]
  },
  {
   "cell_type": "code",
   "execution_count": 23,
   "id": "32893b05",
   "metadata": {},
   "outputs": [
    {
     "data": {
      "text/html": [
       "<div>\n",
       "<style scoped>\n",
       "    .dataframe tbody tr th:only-of-type {\n",
       "        vertical-align: middle;\n",
       "    }\n",
       "\n",
       "    .dataframe tbody tr th {\n",
       "        vertical-align: top;\n",
       "    }\n",
       "\n",
       "    .dataframe thead th {\n",
       "        text-align: right;\n",
       "    }\n",
       "</style>\n",
       "<table border=\"1\" class=\"dataframe\">\n",
       "  <thead>\n",
       "    <tr style=\"text-align: right;\">\n",
       "      <th></th>\n",
       "      <th>ежемесячный доход</th>\n",
       "      <th>просроченные кредиты, количество</th>\n",
       "      <th>просроченные кредиты, сумма</th>\n",
       "      <th>просроченные кредиты, %</th>\n",
       "      <th>дети, всего</th>\n",
       "    </tr>\n",
       "  </thead>\n",
       "  <tbody>\n",
       "    <tr>\n",
       "      <th>0</th>\n",
       "      <td>A</td>\n",
       "      <td>2</td>\n",
       "      <td>25</td>\n",
       "      <td>8.00</td>\n",
       "      <td>18</td>\n",
       "    </tr>\n",
       "    <tr>\n",
       "      <th>1</th>\n",
       "      <td>B</td>\n",
       "      <td>354</td>\n",
       "      <td>5014</td>\n",
       "      <td>7.06</td>\n",
       "      <td>2483</td>\n",
       "    </tr>\n",
       "    <tr>\n",
       "      <th>2</th>\n",
       "      <td>C</td>\n",
       "      <td>1353</td>\n",
       "      <td>15921</td>\n",
       "      <td>8.50</td>\n",
       "      <td>7450</td>\n",
       "    </tr>\n",
       "    <tr>\n",
       "      <th>3</th>\n",
       "      <td>D</td>\n",
       "      <td>21</td>\n",
       "      <td>349</td>\n",
       "      <td>6.02</td>\n",
       "      <td>154</td>\n",
       "    </tr>\n",
       "    <tr>\n",
       "      <th>4</th>\n",
       "      <td>E</td>\n",
       "      <td>2</td>\n",
       "      <td>22</td>\n",
       "      <td>9.09</td>\n",
       "      <td>6</td>\n",
       "    </tr>\n",
       "  </tbody>\n",
       "</table>\n",
       "</div>"
      ],
      "text/plain": [
       "  ежемесячный доход  просроченные кредиты, количество  \\\n",
       "0                 A                                 2   \n",
       "1                 B                               354   \n",
       "2                 C                              1353   \n",
       "3                 D                                21   \n",
       "4                 E                                 2   \n",
       "\n",
       "   просроченные кредиты, сумма  просроченные кредиты, %  дети, всего  \n",
       "0                           25                     8.00           18  \n",
       "1                         5014                     7.06         2483  \n",
       "2                        15921                     8.50         7450  \n",
       "3                          349                     6.02          154  \n",
       "4                           22                     9.09            6  "
      ]
     },
     "metadata": {},
     "output_type": "display_data"
    },
    {
     "data": {
      "image/png": "[encoded data removed]",
      "text/plain": [
       "<Figure size 640x480 with 1 Axes>"
      ]
     },
     "metadata": {},
     "output_type": "display_data"
    }
   ],
   "source": [
    "data_pivot_income=data.pivot_table(index=['total_income_category'],  values='debt',  aggfunc=['sum','count', 'mean'])\n",
    "data_pivot_children=data.pivot_table(index=['total_income_category'],  values='children',  aggfunc=['sum'])\n",
    "data_pivot_total= data_pivot_income.merge(data_pivot_children, on='total_income_category', how='left').reset_index()\n",
    "data_pivot_total.columns =['ежемесячный доход','просроченные кредиты, количество', 'просроченные кредиты, сумма', 'просроченные кредиты, %', 'дети, всего']\n",
    "data_pivot_total['просроченные кредиты, %']=round((data_pivot_total['просроченные кредиты, %']*100),2)\n",
    "display(data_pivot_total)\n",
    "\n",
    "sns.barplot(x=data_pivot_total['просроченные кредиты, %'], y=data_pivot_total['ежемесячный доход'], orient = 'h')\n",
    "plt.title(\"Зависимость между уровнем дохода и процентом просроченных кредитов\");"
   ]
  },
  {
   "cell_type": "markdown",
   "id": "ad70d512",
   "metadata": {},
   "source": [
    "**Вывод:** Из приведённых данных самыми надёжными  являются заёмщики, состоящие в официальном браке в настоящее время  или ранее .\n",
    "При исследовании зависимости уровня ежемесячного дохода заёмщика и возврата кредита в срок, наиболее надёжными заёмщиками являются \n",
    "\n",
    "категории B c доходом 200001–1000000 и D 30001–50000, где доля просроченных кредитов составляет 6,0-7,0%. \n",
    "Менее надёжными показали себя заёмщики категории А  с доходом 1000001 и выше и С с ежемесячным доходом 50001-200000, процент \n",
    "задержки в возврате кредита в этих группах 8,0-8,4%.\n",
    "При этом категорией с самым большим процентов просроченных кредитов в размере 9% стала категория Е с самым низким  доходом \n",
    "0-30000.\n",
    "\n",
    "На первый взгляд зависимость между  уровнем дохода и возвратом кредита не прослеживается напрямую и с учётом установленных \n",
    "категорий дохода носит волнообразный характер. При этом хотелось бы обратить внимание, что разбивка уровня доходов на категории \n",
    "установлена по ежемесячному доходу заёмщика без учёта количества членов его семьи. \n",
    "\n",
    "Как можно видеть в таблице выше,  категории заёмщиков В и С - самые большие как по  количеству кредитов, так и по количеству \n",
    "детей, а значит и членов семьи, которых заёмщик фактически содержит на свой доход. Для более объективной оценки зависимости \n",
    "дохода и возвратом кредита целесообразно было бы    рассчитать и использовать  в дальнейшем анализе доход на члена семьи \n",
    "Заёмщика. \n",
    "\n",
    "В таблице ниже видна прямая зависимость по снижению дохода на члена семьи с ростом количества детей, что  так же может говорить \n",
    "об увеличении риска невозврата кредита в срок при снижении  дохода на члена семьи, что требует дополнительного исследования."
   ]
  },
  {
   "cell_type": "code",
   "execution_count": 24,
   "id": "9106049e",
   "metadata": {},
   "outputs": [
    {
     "data": {
      "image/png": "[encoded data removed]",
      "text/plain": [
       "<Figure size 640x480 with 1 Axes>"
      ]
     },
     "metadata": {},
     "output_type": "display_data"
    }
   ],
   "source": [
    "data['incom_person']=data['total_income']/(data['children']+1)\n",
    "sns.barplot(data=data, y=\"incom_person\", x=\"children\", )\n",
    "plt.title('Зависимость уровня дохода на члена семьи и количества детей');"
   ]
  },
  {
   "cell_type": "markdown",
   "id": "4d6ce5de",
   "metadata": {},
   "source": [
    "#### 8.4 Как разные цели кредита влияют на его возврат в срок?"
   ]
  },
  {
   "cell_type": "code",
   "execution_count": 25,
   "id": "8c68fe6a",
   "metadata": {},
   "outputs": [
    {
     "data": {
      "text/html": [
       "<div>\n",
       "<style scoped>\n",
       "    .dataframe tbody tr th:only-of-type {\n",
       "        vertical-align: middle;\n",
       "    }\n",
       "\n",
       "    .dataframe tbody tr th {\n",
       "        vertical-align: top;\n",
       "    }\n",
       "\n",
       "    .dataframe thead th {\n",
       "        text-align: right;\n",
       "    }\n",
       "</style>\n",
       "<table border=\"1\" class=\"dataframe\">\n",
       "  <thead>\n",
       "    <tr style=\"text-align: right;\">\n",
       "      <th></th>\n",
       "      <th>цель получения кредита</th>\n",
       "      <th>просроченные кредиты, количество</th>\n",
       "      <th>просроченные кредиты, сумма</th>\n",
       "      <th>просроченные кредиты, %</th>\n",
       "    </tr>\n",
       "  </thead>\n",
       "  <tbody>\n",
       "    <tr>\n",
       "      <th>0</th>\n",
       "      <td>операции с автомобилем</td>\n",
       "      <td>400</td>\n",
       "      <td>4279</td>\n",
       "      <td>9.35</td>\n",
       "    </tr>\n",
       "    <tr>\n",
       "      <th>1</th>\n",
       "      <td>операции с недвижимостью</td>\n",
       "      <td>780</td>\n",
       "      <td>10751</td>\n",
       "      <td>7.26</td>\n",
       "    </tr>\n",
       "    <tr>\n",
       "      <th>2</th>\n",
       "      <td>получение образования</td>\n",
       "      <td>369</td>\n",
       "      <td>3988</td>\n",
       "      <td>9.25</td>\n",
       "    </tr>\n",
       "    <tr>\n",
       "      <th>3</th>\n",
       "      <td>проведение свадьбы</td>\n",
       "      <td>183</td>\n",
       "      <td>2313</td>\n",
       "      <td>7.91</td>\n",
       "    </tr>\n",
       "  </tbody>\n",
       "</table>\n",
       "</div>"
      ],
      "text/plain": [
       "     цель получения кредита  просроченные кредиты, количество  \\\n",
       "0    операции с автомобилем                               400   \n",
       "1  операции с недвижимостью                               780   \n",
       "2     получение образования                               369   \n",
       "3        проведение свадьбы                               183   \n",
       "\n",
       "   просроченные кредиты, сумма  просроченные кредиты, %  \n",
       "0                         4279                     9.35  \n",
       "1                        10751                     7.26  \n",
       "2                         3988                     9.25  \n",
       "3                         2313                     7.91  "
      ]
     },
     "metadata": {},
     "output_type": "display_data"
    },
    {
     "data": {
      "image/png": "[encoded data removed]",
      "text/plain": [
       "<Figure size 640x480 with 1 Axes>"
      ]
     },
     "metadata": {},
     "output_type": "display_data"
    }
   ],
   "source": [
    "data_pivot_purpose=data.pivot_table(index=['purpose_category'],  values='debt',  aggfunc=['sum','count','mean']).reset_index()\n",
    "data_pivot_purpose.columns =['цель получения кредита','просроченные кредиты, количество', 'просроченные кредиты, сумма', 'просроченные кредиты, %']\n",
    "data_pivot_purpose['просроченные кредиты, %']=round((data_pivot_purpose['просроченные кредиты, %']*100),2)\n",
    "display(data_pivot_purpose)\n",
    "\n",
    "sns.barplot(x=data_pivot_purpose['просроченные кредиты, %'], y=data_pivot_purpose['цель получения кредита'], orient='h')\n",
    "plt.title(\"Зависимость между целью кредита и процентом просроченных кредитов\");\n",
    "                    "
   ]
  },
  {
   "cell_type": "markdown",
   "id": "2dbf1742",
   "metadata": {},
   "source": [
    "**Вывод:** При исследовании влияния цели кредита на его возврат в срок самыми надёжными категориями являются операции с недвижимостью и проведение свадьбы, менее надёжными  - операции с автомобилем и получение образования."
   ]
  },
  {
   "cell_type": "markdown",
   "id": "c9672883",
   "metadata": {},
   "source": [
    "### 9. Общий вывод."
   ]
  },
  {
   "cell_type": "markdown",
   "id": "3497ae96",
   "metadata": {},
   "source": [
    "Заказчик — кредитный отдел банка просил разобраться, влияет ли семейное положение и количество детей клиента на факт погашения кредита в срок. \n",
    "\n",
    "По итогам исследования можно говорить о том, что  с ростом количества детей у заёмщика увеличивается риск просрочки им кредита, при этом наиболее надёжными заёмщиками являются состоящие в данный момент в официальном браке или состоящие в официальном браке ранее(вдовец\\вдова, в разводе).\n",
    "\n",
    "Дополнительно исследуя цели  кредита можно отметить меньшие риски невозврата для целей операций с недвижимостью и проведения свадьбы, и большие  - для операций с автомобилем и получения образования. Для снижения рисков в последних двух категориях одним из возможных решений могло бы стать страхование невозврата кредита.  \n",
    "\n",
    "Анализ ежемесячного дохода заёмщика и риска невозврата не выявил зависимости этих двух факторов.  Но зависимость может быть выявлена при анализе такого показателя как  доход на члена семьи заёмщика и  риск невозврата кредита, что требует проведения дополнительного исследование.\n",
    "\n",
    "Таким образом, наиболее привлекательным заёмщиком можно назвать заёмщика без детей,  вдовец\\вдова,  с ежемесячным доходом 30001–50000 и берущим кредит на операции с недвижимостью."
   ]
  }
 ],
 "metadata": {
  "kernelspec": {
   "display_name": "Python 3 (ipykernel)",
   "language": "python",
   "name": "python3"
  },
  "language_info": {
   "codemirror_mode": {
    "name": "ipython",
    "version": 3
   },
   "file_extension": ".py",
   "mimetype": "text/x-python",
   "name": "python",
   "nbconvert_exporter": "python",
   "pygments_lexer": "ipython3",
   "version": "3.11.4"
  }
 },
 "nbformat": 4,
 "nbformat_minor": 5
}
